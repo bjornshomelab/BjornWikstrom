{
  "cells": [
    {
      "cell_type": "markdown",
      "metadata": {
        "id": "8647054e"
      },
      "source": [
        "<a target=\"_blank\" href=\"https://colab.research.google.com/github/lukebarousse/Python_Data_Analytics_Course/blob/main/1_Basics/02_Variables.ipynb\">\n",
        "  <img src=\"https://colab.research.google.com/assets/colab-badge.svg\" alt=\"Open In Colab\"/>\n",
        "</a>"
      ]
    },
    {
      "cell_type": "markdown",
      "metadata": {
        "id": "hdwC92nA4Vw9"
      },
      "source": [
        "# Variables"
      ]
    },
    {
      "cell_type": "markdown",
      "metadata": {
        "id": "GXifHdAIE2gT"
      },
      "source": [
        "## Create a Variable\n",
        "\n",
        "### Notes\n",
        "\n",
        "* A variable is created the moment you assign a value to it\n",
        "* Variables don't need to be declared with any *type*\n",
        "* Variables can change types even after they've been set\n",
        "\n",
        "\n",
        "The variable name goes on the left side of the assignment operator (`=`), and the value or expression you want to assign to that variable goes on the right side. It will be like this:\n",
        "\n",
        "```python\n",
        "variable_name = value\n",
        "```\n",
        "\n",
        "### Examples"
      ]
    },
    {
      "cell_type": "code",
      "execution_count": null,
      "metadata": {
        "id": "PG-M5SQTV9q_"
      },
      "outputs": [],
      "source": [
        "base_salary = 100000"
      ]
    },
    {
      "cell_type": "markdown",
      "metadata": {
        "id": "BNroqfJ6V9rA"
      },
      "source": [
        "You can also perform operations using variables."
      ]
    },
    {
      "cell_type": "code",
      "execution_count": 1,
      "metadata": {
        "id": "lD7CuaNPV9rA",
        "outputId": "d3604f31-7b10-4862-9dc6-8b24c83561e2",
        "colab": {
          "base_uri": "https://localhost:8080/",
          "height": 176
        }
      },
      "outputs": [
        {
          "output_type": "error",
          "ename": "NameError",
          "evalue": "name 'base_salary' is not defined",
          "traceback": [
            "\u001b[0;31m---------------------------------------------------------------------------\u001b[0m",
            "\u001b[0;31mNameError\u001b[0m                                 Traceback (most recent call last)",
            "\u001b[0;32m<ipython-input-1-87eccffb41e9>\u001b[0m in \u001b[0;36m<cell line: 0>\u001b[0;34m()\u001b[0m\n\u001b[1;32m      1\u001b[0m \u001b[0mbonus_rate\u001b[0m \u001b[0;34m=\u001b[0m \u001b[0;36m0.1\u001b[0m\u001b[0;34m\u001b[0m\u001b[0;34m\u001b[0m\u001b[0m\n\u001b[1;32m      2\u001b[0m \u001b[0;34m\u001b[0m\u001b[0m\n\u001b[0;32m----> 3\u001b[0;31m \u001b[0mtotal_salary\u001b[0m \u001b[0;34m=\u001b[0m \u001b[0mbase_salary\u001b[0m \u001b[0;34m*\u001b[0m \u001b[0;34m(\u001b[0m\u001b[0;36m1\u001b[0m \u001b[0;34m+\u001b[0m \u001b[0mbonus_rate\u001b[0m\u001b[0;34m)\u001b[0m\u001b[0;34m\u001b[0m\u001b[0;34m\u001b[0m\u001b[0m\n\u001b[0m",
            "\u001b[0;31mNameError\u001b[0m: name 'base_salary' is not defined"
          ]
        }
      ],
      "source": [
        "bonus_rate = 0.1\n",
        "\n",
        "total_salary = base_salary * (1 + bonus_rate)"
      ]
    },
    {
      "cell_type": "markdown",
      "metadata": {
        "id": "NIKbN8MQV9rB"
      },
      "source": [
        "But how the heck do we see what the total salary is? We can either print the variable using the `print()` function or call it."
      ]
    },
    {
      "cell_type": "code",
      "execution_count": null,
      "metadata": {
        "id": "Ld5vPx9rV9rC",
        "outputId": "8785a72c-59f6-4c81-e777-fe71228ca412"
      },
      "outputs": [
        {
          "data": {
            "text/plain": [
              "110000.00000000001"
            ]
          },
          "execution_count": 3,
          "metadata": {},
          "output_type": "execute_result"
        }
      ],
      "source": [
        "total_salary"
      ]
    },
    {
      "cell_type": "code",
      "execution_count": null,
      "metadata": {
        "id": "GfTF9c4KV9rD",
        "outputId": "3c27aa76-3abd-4b03-b046-1ae27845ebca"
      },
      "outputs": [
        {
          "data": {
            "text/plain": [
              "110000.00000000001"
            ]
          },
          "execution_count": 4,
          "metadata": {},
          "output_type": "execute_result"
        }
      ],
      "source": [
        "# Calling a variable\n",
        "total_salary"
      ]
    },
    {
      "cell_type": "markdown",
      "metadata": {
        "id": "VHndi9zwV9rD"
      },
      "source": [
        "## Variables aren't only numbers\n",
        "\n",
        "### Notes\n",
        "\n",
        "* We can store all different kinds of data in variables\n",
        "* **Note:** We'll cover more on types in a bit\n",
        "\n",
        "### Example\n",
        "* Create variables to store the following information about a job posting:\n",
        "  * Job ID (integer)\n",
        "  * Company Name (string)\n",
        "  * Salary Rate (string, but consider how you might store this as a numerical type for calculations)\n",
        "  * Job Work From Home (boolean)"
      ]
    },
    {
      "cell_type": "code",
      "execution_count": null,
      "metadata": {
        "id": "kZBprbvDd2aJ"
      },
      "outputs": [],
      "source": [
        "job_id = 101\n",
        "company_name = 'DataWiz Inc.'\n",
        "job_title = 'Data Analyst'\n",
        "job_salary = 125000\n",
        "job_work_from_home = True"
      ]
    },
    {
      "cell_type": "markdown",
      "metadata": {
        "id": "JQ2UFIT8hur8"
      },
      "source": [
        "We can use the `print()` function to return all the variables:"
      ]
    },
    {
      "cell_type": "code",
      "execution_count": null,
      "metadata": {
        "colab": {
          "base_uri": "https://localhost:8080/"
        },
        "id": "DBsWe-Z9eK-i",
        "outputId": "03426fbf-716a-4993-cbb0-9c221f13c263"
      },
      "outputs": [
        {
          "name": "stdout",
          "output_type": "stream",
          "text": [
            "Job ID:       101\n",
            "Company Name: DataWiz Inc.\n",
            "Job Title:    Data Analyst\n",
            "Salary:       125000\n",
            "WFH:          True\n"
          ]
        }
      ],
      "source": [
        "# This won't print out the variable name.\n",
        "print(\"Job ID:      \", job_id)\n",
        "print(\"Company Name:\", company_name)\n",
        "print(\"Job Title:   \", job_title)\n",
        "print(\"Salary:      \", job_salary)\n",
        "print(\"WFH:         \", job_work_from_home)"
      ]
    },
    {
      "cell_type": "markdown",
      "metadata": {
        "id": "7U9kgADXV9rE"
      },
      "source": [
        "## Objects in Python\n",
        "\n",
        "Something to understand: everything stored in Python is considered an **object**. This includes all the data types we've talked about and will talk about.\n",
        "\n",
        "Objects are a foundational concept in Python, and we'll explore more about what they do in the upcoming sections."
      ]
    }
  ],
  "metadata": {
    "colab": {
      "provenance": []
    },
    "kernelspec": {
      "display_name": "Python 3",
      "name": "python3"
    },
    "language_info": {
      "codemirror_mode": {
        "name": "ipython",
        "version": 3
      },
      "file_extension": ".py",
      "mimetype": "text/x-python",
      "name": "python",
      "nbconvert_exporter": "python",
      "pygments_lexer": "ipython3",
      "version": "3.11.9"
    }
  },
  "nbformat": 4,
  "nbformat_minor": 0
}